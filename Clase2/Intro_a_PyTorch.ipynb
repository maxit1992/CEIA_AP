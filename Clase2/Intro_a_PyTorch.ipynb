{
  "nbformat": 4,
  "nbformat_minor": 0,
  "metadata": {
    "colab": {
      "name": "Intro a PyTorch.ipynb",
      "provenance": [],
      "collapsed_sections": []
    },
    "kernelspec": {
      "name": "python3",
      "display_name": "Python 3"
    },
    "language_info": {
      "name": "python"
    }
  },
  "cells": [
    {
      "cell_type": "code",
      "metadata": {
        "id": "evxYthu3l2Iy"
      },
      "source": [
        "import numpy as np\n",
        "import matplotlib.pyplot as plt\n"
      ],
      "execution_count": 1,
      "outputs": []
    },
    {
      "cell_type": "code",
      "metadata": {
        "colab": {
          "base_uri": "https://localhost:8080/",
          "height": 286
        },
        "id": "duf3whmYmPOG",
        "outputId": "97f484bd-424f-47a0-df2e-68c43e31dc13"
      },
      "source": [
        "X = np.random.uniform(0,8,10000)\n",
        "U = np.random.uniform(0,1,10000)\n",
        "N1 = np.random.normal(3,0.1,10000)\n",
        "N2 = np.random.normal(-1,0.1,10000)\n",
        "Z = (X-4)**2\n",
        "Z[U>=0.5] = Z[U>=0.5] + N1[U >= 0.5]\n",
        "Z[U < 0.5] = Z[U < 0.5] + N2[U < 0.5]\n",
        "fig, ax = plt.subplots(1,1)\n",
        "ax.scatter(X,Z)"
      ],
      "execution_count": 2,
      "outputs": [
        {
          "output_type": "execute_result",
          "data": {
            "text/plain": [
              "<matplotlib.collections.PathCollection at 0x7ffaf3573e90>"
            ]
          },
          "metadata": {
            "tags": []
          },
          "execution_count": 2
        },
        {
          "output_type": "display_data",
          "data": {
            "image/png": "[encoded data removed]",
            "text/plain": [
              "<Figure size 432x288 with 1 Axes>"
            ]
          },
          "metadata": {
            "tags": [],
            "needs_background": "light"
          }
        }
      ]
    },
    {
      "cell_type": "code",
      "metadata": {
        "id": "fDmxNGD9m4Yw"
      },
      "source": [
        "L = np.zeros(10000)\n",
        "mask = Z >= (X-4)**2\n",
        "L[mask] = 1\n",
        "L[~mask] = 0\n",
        "\n",
        "idx = np.random.permutation(np.arange(0,10000))\n",
        "X_train = X[idx[0:int(0.8*10000)]]\n",
        "X_test = X[idx[int(0.8*10000):]]\n",
        "\n",
        "Z_train = Z[idx[0:int(0.8*10000)]]\n",
        "Z_test = Z[idx[int(0.8*10000):]]\n",
        "\n",
        "L_train = L[idx[0:int(0.8*10000)]]\n",
        "L_test = L[idx[int(0.8*10000):]]\n",
        "\n",
        "X_final_train = np.zeros((X_train.shape[0],2))\n",
        "X_final_train[:,0]=X_train\n",
        "X_final_train[:,1]=Z_train\n",
        "\n",
        "X_final_test = np.zeros((X_test.shape[0],2))\n",
        "X_final_test[:,0]=X_test\n",
        "X_final_test[:,1]=Z_test"
      ],
      "execution_count": 3,
      "outputs": []
    },
    {
      "cell_type": "code",
      "metadata": {
        "id": "QiYtaXaZnX04"
      },
      "source": [
        "import torch\n",
        "from torch.utils.data import Dataset\n",
        "from torch.utils.data import DataLoader"
      ],
      "execution_count": 4,
      "outputs": []
    },
    {
      "cell_type": "code",
      "metadata": {
        "id": "LDnb8z6xoBs4"
      },
      "source": [
        "class CustomDataset(Dataset):\n",
        "  def __init__(self, X, Y):\n",
        "    self.X=X\n",
        "    self.Y=Y\n",
        "\n",
        "  def __len__(self):\n",
        "    return self.X.shape[0]\n",
        "\n",
        "  def __getitem__(self, idx):\n",
        "    return self.X[idx,:], self.Y[idx]\n",
        "\n",
        "  \n"
      ],
      "execution_count": 5,
      "outputs": []
    },
    {
      "cell_type": "code",
      "metadata": {
        "id": "gpJxktSTpRK-"
      },
      "source": [
        "training_set = CustomDataset(X_final_train, L_train)"
      ],
      "execution_count": 6,
      "outputs": []
    },
    {
      "cell_type": "code",
      "metadata": {
        "colab": {
          "base_uri": "https://localhost:8080/"
        },
        "id": "g0l4O0cLp1xj",
        "outputId": "1dc70e50-9711-45c8-b125-6ef047f1141e"
      },
      "source": [
        "len(training_set)"
      ],
      "execution_count": 7,
      "outputs": [
        {
          "output_type": "execute_result",
          "data": {
            "text/plain": [
              "8000"
            ]
          },
          "metadata": {
            "tags": []
          },
          "execution_count": 7
        }
      ]
    },
    {
      "cell_type": "code",
      "metadata": {
        "colab": {
          "base_uri": "https://localhost:8080/"
        },
        "id": "nscNVbCpqBAy",
        "outputId": "12e6d400-8c90-4ab1-c83f-e0062e6f0692"
      },
      "source": [
        "training_set[0]"
      ],
      "execution_count": 8,
      "outputs": [
        {
          "output_type": "execute_result",
          "data": {
            "text/plain": [
              "(array([1.3865655, 5.9273796]), 0.0)"
            ]
          },
          "metadata": {
            "tags": []
          },
          "execution_count": 8
        }
      ]
    },
    {
      "cell_type": "code",
      "metadata": {
        "id": "ViXg5kgwq-lm"
      },
      "source": [
        "test_set = CustomDataset(X_final_test, L_test)"
      ],
      "execution_count": 9,
      "outputs": []
    },
    {
      "cell_type": "code",
      "metadata": {
        "id": "PNlKGIsWrQUd"
      },
      "source": [
        "training_dataloader = DataLoader(training_set,batch_size=256, shuffle=True)\n",
        "test_dataloader = DataLoader(test_set,batch_size=len(test_set), shuffle= True)"
      ],
      "execution_count": 10,
      "outputs": []
    },
    {
      "cell_type": "code",
      "metadata": {
        "colab": {
          "base_uri": "https://localhost:8080/"
        },
        "id": "cJKNTsfqr7ot",
        "outputId": "3712204f-95c7-49df-d323-b29428f70b6b"
      },
      "source": [
        "len(training_dataloader) # (dataset_size/batch_size)"
      ],
      "execution_count": 11,
      "outputs": [
        {
          "output_type": "execute_result",
          "data": {
            "text/plain": [
              "32"
            ]
          },
          "metadata": {
            "tags": []
          },
          "execution_count": 11
        }
      ]
    },
    {
      "cell_type": "code",
      "metadata": {
        "id": "agn5rmoEr9J1"
      },
      "source": [
        "batch_example=next(iter(training_dataloader)) #iterator through batch"
      ],
      "execution_count": 12,
      "outputs": []
    },
    {
      "cell_type": "code",
      "metadata": {
        "colab": {
          "base_uri": "https://localhost:8080/"
        },
        "id": "7ChgDjR_sm6S",
        "outputId": "5e374cc0-1f2c-4d8c-b524-19ba5bac571e"
      },
      "source": [
        "batch_example[0].shape"
      ],
      "execution_count": 13,
      "outputs": [
        {
          "output_type": "execute_result",
          "data": {
            "text/plain": [
              "torch.Size([256, 2])"
            ]
          },
          "metadata": {
            "tags": []
          },
          "execution_count": 13
        }
      ]
    },
    {
      "cell_type": "code",
      "metadata": {
        "colab": {
          "base_uri": "https://localhost:8080/"
        },
        "id": "pK9sFDEvspae",
        "outputId": "fcfab1f3-2765-4d06-ee89-90aea3b62fbf"
      },
      "source": [
        "batch_example[1].shape"
      ],
      "execution_count": 14,
      "outputs": [
        {
          "output_type": "execute_result",
          "data": {
            "text/plain": [
              "torch.Size([256])"
            ]
          },
          "metadata": {
            "tags": []
          },
          "execution_count": 14
        }
      ]
    },
    {
      "cell_type": "code",
      "metadata": {
        "id": "aPzvEmMbsrb6"
      },
      "source": [
        "torch_example = torch.Tensor([[1,2,3,4],[5,6,7,8]])"
      ],
      "execution_count": 15,
      "outputs": []
    },
    {
      "cell_type": "code",
      "metadata": {
        "colab": {
          "base_uri": "https://localhost:8080/"
        },
        "id": "6hVUCiihupHM",
        "outputId": "013d87dc-4189-49ad-9511-74dcfe6c6c91"
      },
      "source": [
        "torch_example"
      ],
      "execution_count": 16,
      "outputs": [
        {
          "output_type": "execute_result",
          "data": {
            "text/plain": [
              "tensor([[1., 2., 3., 4.],\n",
              "        [5., 6., 7., 8.]])"
            ]
          },
          "metadata": {
            "tags": []
          },
          "execution_count": 16
        }
      ]
    },
    {
      "cell_type": "code",
      "metadata": {
        "colab": {
          "base_uri": "https://localhost:8080/"
        },
        "id": "T-nxDLpJuwE8",
        "outputId": "79a970c9-d1c5-4d75-b9f8-9c910175ae47"
      },
      "source": [
        "torch_example.numpy()"
      ],
      "execution_count": 17,
      "outputs": [
        {
          "output_type": "execute_result",
          "data": {
            "text/plain": [
              "array([[1., 2., 3., 4.],\n",
              "       [5., 6., 7., 8.]], dtype=float32)"
            ]
          },
          "metadata": {
            "tags": []
          },
          "execution_count": 17
        }
      ]
    },
    {
      "cell_type": "code",
      "metadata": {
        "id": "T_-R0bB6uyc8"
      },
      "source": [
        "class NNet(torch.nn.Module):\n",
        "  def __init__(self):\n",
        "    super().__init__()\n",
        "    self.linear_1 = torch.nn.Linear(in_features=2, out_features=10, bias = True)\n",
        "    self.sigmoid_1 = torch.nn.Sigmoid()\n",
        "    self.linear_2 = torch.nn.Linear(in_features=10, out_features=20, bias = True)\n",
        "    self.sigmoid_2 = torch.nn.Sigmoid()\n",
        "    self.linear_3 = torch.nn.Linear(in_features=20, out_features=1, bias = True)\n",
        "    self.sigmoid_3 = torch.nn.Sigmoid()\n",
        "\n",
        "  def forward(self, x):\n",
        "    # X es el batch que va a entrar\n",
        "    z1 = self.linear_1(x)\n",
        "    a1 = self.sigmoid_1 (z1)\n",
        "    z2 = self.linear_2(a1)\n",
        "    a2 = self.sigmoid_2 (z2)\n",
        "    z3 = self.linear_3(a2)\n",
        "    y = self.sigmoid_3 (z3)\n",
        "    return y"
      ],
      "execution_count": 18,
      "outputs": []
    },
    {
      "cell_type": "code",
      "metadata": {
        "id": "wcw4GMftxFnM"
      },
      "source": [
        "nnet = NNet()"
      ],
      "execution_count": 19,
      "outputs": []
    },
    {
      "cell_type": "code",
      "metadata": {
        "colab": {
          "base_uri": "https://localhost:8080/"
        },
        "id": "ur9VmA-PxLTW",
        "outputId": "c4e0af6b-f1c8-4fd9-da85-f489c26d31fd"
      },
      "source": [
        "print(nnet)"
      ],
      "execution_count": 20,
      "outputs": [
        {
          "output_type": "stream",
          "text": [
            "NNet(\n",
            "  (linear_1): Linear(in_features=2, out_features=10, bias=True)\n",
            "  (sigmoid_1): Sigmoid()\n",
            "  (linear_2): Linear(in_features=10, out_features=20, bias=True)\n",
            "  (sigmoid_2): Sigmoid()\n",
            "  (linear_3): Linear(in_features=20, out_features=1, bias=True)\n",
            "  (sigmoid_3): Sigmoid()\n",
            ")\n"
          ],
          "name": "stdout"
        }
      ]
    },
    {
      "cell_type": "code",
      "metadata": {
        "id": "qjovKxzQxPKL"
      },
      "source": [
        "criterion = torch.nn.BCELoss(reduction='sum') # criterion. 'sum' suma todos los errores!\n",
        "optimizer = torch.optim.SGD(nnet.parameters(),lr=0.001) # En realidad termina usando minibatch"
      ],
      "execution_count": 21,
      "outputs": []
    },
    {
      "cell_type": "code",
      "metadata": {
        "colab": {
          "base_uri": "https://localhost:8080/"
        },
        "id": "wqUTfiphxvL5",
        "outputId": "7e55dcad-85e2-49bb-bc5e-ab12f546b0c8"
      },
      "source": [
        "device = torch.device(\"cuda:0\" if torch.cuda.is_available() else \"cpu\")\n",
        "nnet.to(device)\n",
        "for epoch in range(100):\n",
        "  \n",
        "  running_loss = 0\n",
        "\n",
        "  for i, data in enumerate(training_dataloader):\n",
        "    # data es una tupla batch (data, label)\n",
        "    x, y = data #todavia esta en numpy\n",
        "    x = x.to(device).float() #convierte a tensores y pasa a GPU si esta disponible\n",
        "    y = y.to(device).float() #convierte a tensores y pasa a GPU si esta disponible\n",
        "\n",
        "    # set gradient to zero\n",
        "    optimizer.zero_grad()\n",
        "\n",
        "    # forward\n",
        "    y_hat = nnet(x)\n",
        "\n",
        "    # loss\n",
        "    loss = criterion(y_hat[:,0], y)\n",
        "    \n",
        "    # backward\n",
        "    loss.backward()\n",
        "\n",
        "    # update of parameters\n",
        "    optimizer.step()\n",
        "\n",
        "    # compute loss and statistics\n",
        "    running_loss += loss.item()\n",
        "\n",
        "  print(f\"Epoch = {epoch} | loss = {running_loss/len(training_set)}\")"
      ],
      "execution_count": 22,
      "outputs": [
        {
          "output_type": "stream",
          "text": [
            "Epoch = 0 | loss = 0.690952374458313\n",
            "Epoch = 1 | loss = 0.6845313758850098\n",
            "Epoch = 2 | loss = 0.6747721767425537\n",
            "Epoch = 3 | loss = 0.6612342853546143\n",
            "Epoch = 4 | loss = 0.6404845695495606\n",
            "Epoch = 5 | loss = 0.6164362239837646\n",
            "Epoch = 6 | loss = 0.5915887169837951\n",
            "Epoch = 7 | loss = 0.5705803308486939\n",
            "Epoch = 8 | loss = 0.5559158110618592\n",
            "Epoch = 9 | loss = 0.5454750156402588\n",
            "Epoch = 10 | loss = 0.5380280423164367\n",
            "Epoch = 11 | loss = 0.5320586850643158\n",
            "Epoch = 12 | loss = 0.5276221075057983\n",
            "Epoch = 13 | loss = 0.52355464220047\n",
            "Epoch = 14 | loss = 0.520801558971405\n",
            "Epoch = 15 | loss = 0.5177747712135315\n",
            "Epoch = 16 | loss = 0.514665723323822\n",
            "Epoch = 17 | loss = 0.5129444818496705\n",
            "Epoch = 18 | loss = 0.5115446157455444\n",
            "Epoch = 19 | loss = 0.509164273262024\n",
            "Epoch = 20 | loss = 0.5076807153224945\n",
            "Epoch = 21 | loss = 0.5064175281524658\n",
            "Epoch = 22 | loss = 0.505642216682434\n",
            "Epoch = 23 | loss = 0.5033884031772613\n",
            "Epoch = 24 | loss = 0.5027279996871948\n",
            "Epoch = 25 | loss = 0.50036851978302\n",
            "Epoch = 26 | loss = 0.499918133020401\n",
            "Epoch = 27 | loss = 0.49815676307678225\n",
            "Epoch = 28 | loss = 0.49634103870391844\n",
            "Epoch = 29 | loss = 0.49547322511672975\n",
            "Epoch = 30 | loss = 0.4927336091995239\n",
            "Epoch = 31 | loss = 0.49085819292068483\n",
            "Epoch = 32 | loss = 0.4891608591079712\n",
            "Epoch = 33 | loss = 0.48729853773117066\n",
            "Epoch = 34 | loss = 0.48563350820541384\n",
            "Epoch = 35 | loss = 0.4841845018863678\n",
            "Epoch = 36 | loss = 0.4820800547599792\n",
            "Epoch = 37 | loss = 0.48031805515289305\n",
            "Epoch = 38 | loss = 0.47850496673583987\n",
            "Epoch = 39 | loss = 0.4763575448989868\n",
            "Epoch = 40 | loss = 0.47499546241760254\n",
            "Epoch = 41 | loss = 0.4732057294845581\n",
            "Epoch = 42 | loss = 0.470217355966568\n",
            "Epoch = 43 | loss = 0.46766602230072024\n",
            "Epoch = 44 | loss = 0.464616779088974\n",
            "Epoch = 45 | loss = 0.4631801733970642\n",
            "Epoch = 46 | loss = 0.4589920349121094\n",
            "Epoch = 47 | loss = 0.45815419268608093\n",
            "Epoch = 48 | loss = 0.45326620864868167\n",
            "Epoch = 49 | loss = 0.4512320375442505\n",
            "Epoch = 50 | loss = 0.4489287326335907\n",
            "Epoch = 51 | loss = 0.4448475751876831\n",
            "Epoch = 52 | loss = 0.44180304765701295\n",
            "Epoch = 53 | loss = 0.4438507628440857\n",
            "Epoch = 54 | loss = 0.4371856768131256\n",
            "Epoch = 55 | loss = 0.4372234392166138\n",
            "Epoch = 56 | loss = 0.4306134696006775\n",
            "Epoch = 57 | loss = 0.42720933580398557\n",
            "Epoch = 58 | loss = 0.4250923659801483\n",
            "Epoch = 59 | loss = 0.42268052101135256\n",
            "Epoch = 60 | loss = 0.4188144907951355\n",
            "Epoch = 61 | loss = 0.42965289640426635\n",
            "Epoch = 62 | loss = 0.413011501789093\n",
            "Epoch = 63 | loss = 0.4145185933113098\n",
            "Epoch = 64 | loss = 0.41588621950149535\n",
            "Epoch = 65 | loss = 0.40601146483421324\n",
            "Epoch = 66 | loss = 0.4050895037651062\n",
            "Epoch = 67 | loss = 0.3983939657211304\n",
            "Epoch = 68 | loss = 0.3980389094352722\n",
            "Epoch = 69 | loss = 0.4014761567115784\n",
            "Epoch = 70 | loss = 0.39555545401573183\n",
            "Epoch = 71 | loss = 0.38893337941169737\n",
            "Epoch = 72 | loss = 0.3941306269168854\n",
            "Epoch = 73 | loss = 0.3877448513507843\n",
            "Epoch = 74 | loss = 0.3805262560844421\n",
            "Epoch = 75 | loss = 0.38258454656600954\n",
            "Epoch = 76 | loss = 0.3829772937297821\n",
            "Epoch = 77 | loss = 0.37401807260513303\n",
            "Epoch = 78 | loss = 0.3765105738639832\n",
            "Epoch = 79 | loss = 0.3698450560569763\n",
            "Epoch = 80 | loss = 0.3698142294883728\n",
            "Epoch = 81 | loss = 0.3655030641555786\n",
            "Epoch = 82 | loss = 0.36243275499343874\n",
            "Epoch = 83 | loss = 0.3577014217376709\n",
            "Epoch = 84 | loss = 0.35926208972930906\n",
            "Epoch = 85 | loss = 0.3600303535461426\n",
            "Epoch = 86 | loss = 0.35807799315452576\n",
            "Epoch = 87 | loss = 0.3596305954456329\n",
            "Epoch = 88 | loss = 0.36119874906539917\n",
            "Epoch = 89 | loss = 0.36536415076255796\n",
            "Epoch = 90 | loss = 0.35907249546051023\n",
            "Epoch = 91 | loss = 0.3939620385169983\n",
            "Epoch = 92 | loss = 0.36570403814315794\n",
            "Epoch = 93 | loss = 0.390393595457077\n",
            "Epoch = 94 | loss = 0.35397044599056243\n",
            "Epoch = 95 | loss = 0.3514014368057251\n",
            "Epoch = 96 | loss = 0.35588888835906984\n",
            "Epoch = 97 | loss = 0.3903914842605591\n",
            "Epoch = 98 | loss = 0.34520600271224977\n",
            "Epoch = 99 | loss = 0.34253526639938353\n"
          ],
          "name": "stdout"
        }
      ]
    },
    {
      "cell_type": "code",
      "metadata": {
        "id": "z6VK982v975J"
      },
      "source": [
        "from sklearn.metrics import accuracy_score\n",
        "from sklearn.metrics import recall_score\n",
        "from sklearn.metrics import precision_score\n",
        "from sklearn.metrics import f1_score"
      ],
      "execution_count": 23,
      "outputs": []
    },
    {
      "cell_type": "code",
      "metadata": {
        "colab": {
          "base_uri": "https://localhost:8080/",
          "height": 360
        },
        "id": "75Shqbmd2Pnb",
        "outputId": "bbefcf19-60d5-4a18-c3d0-2905064a7770"
      },
      "source": [
        "for i, data in enumerate(test_dataloader):\n",
        "    x, y_real = data \n",
        "    x = x.to(device).float() \n",
        "    y_hat = (nnet(x)>=0.5)*1\n",
        "    y_hat = y_hat[:,0]\n",
        "\n",
        "    test_accuracy = accuracy_score(y_real,y_hat)\n",
        "    test_recall = recall_score(y_real,y_hat)\n",
        "    test_precision = precision_score(y_real, y_hat)\n",
        "    test_f1 = f1_score(y_real,y_hat)\n",
        "    print(f\"Accuracy: {test_accuracy}\")\n",
        "    print(f\"Recall: {test_recall}\")\n",
        "    print(f\"Precision: {test_precision}\")\n",
        "    print(f\"F1-Score: {test_f1}\")\n",
        "\n",
        "fig, ax = plt.subplots(1,1)\n",
        "ax.scatter(x[y_hat==0,0],x[y_hat==0,1],c='blue')\n",
        "ax.scatter(x[y_hat==1,0],x[y_hat==1,1],c='red')"
      ],
      "execution_count": 24,
      "outputs": [
        {
          "output_type": "stream",
          "text": [
            "Accuracy: 0.897\n",
            "Recall: 1.0\n",
            "Precision: 0.823327615780446\n",
            "F1-Score: 0.9031044214487299\n"
          ],
          "name": "stdout"
        },
        {
          "output_type": "execute_result",
          "data": {
            "text/plain": [
              "<matplotlib.collections.PathCollection at 0x7ffa8ab1b8d0>"
            ]
          },
          "metadata": {
            "tags": []
          },
          "execution_count": 24
        },
        {
          "output_type": "display_data",
          "data": {
            "image/png": "[encoded data removed]",
            "text/plain": [
              "<Figure size 432x288 with 1 Axes>"
            ]
          },
          "metadata": {
            "tags": [],
            "needs_background": "light"
          }
        }
      ]
    },
    {
      "cell_type": "code",
      "metadata": {
        "id": "XpiOH1WIAZCs"
      },
      "source": [
        ""
      ],
      "execution_count": 24,
      "outputs": []
    }
  ]
}