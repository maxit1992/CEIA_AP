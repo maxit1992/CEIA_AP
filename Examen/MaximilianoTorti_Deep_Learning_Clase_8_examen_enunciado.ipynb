{
  "nbformat": 4,
  "nbformat_minor": 0,
  "metadata": {
    "colab": {
      "name": "MTorti_Deep_Learning_Clase_8_examen_enunciado.ipynb",
      "provenance": [],
      "collapsed_sections": []
    },
    "kernelspec": {
      "name": "python3",
      "display_name": "Python 3"
    }
  },
  "cells": [
    {
      "cell_type": "markdown",
      "metadata": {
        "id": "ftXnmgdtOuZs"
      },
      "source": [
        "# Universidad de Buenos Aires\n",
        "# Deep Learning - Examen\n",
        "\n"
      ]
    },
    {
      "cell_type": "code",
      "metadata": {
        "id": "-cLjTBoPtm01"
      },
      "source": [
        "import pandas as pd\n",
        "import numpy as np\n",
        "from scipy import stats\n",
        "\n",
        "\n",
        "%config InlineBackend.print_figure_kwargs={'facecolor' : \"w\"}\n",
        "from matplotlib import pyplot as plt\n",
        "plt.rcParams['figure.figsize'] = (20, 9)\n",
        "plt.rcParams['font.family'] = 'DejaVu Sans'\n",
        "plt.rcParams['font.size'] = 20\n",
        "plt.rcParams[\"axes.grid\"] =True\n",
        "\n",
        "from sklearn import model_selection\n",
        "from sklearn.preprocessing import MinMaxScaler\n",
        "from sklearn import preprocessing\n",
        "from sklearn.linear_model import LogisticRegression\n",
        "from sklearn import metrics\n",
        "from sklearn.ensemble import RandomForestClassifier\n",
        "from sklearn.metrics import roc_auc_score\n",
        "from sklearn.decomposition import PCA\n",
        "\n",
        "import torch\n",
        "from torch.utils.data import Dataset\n",
        "from torch.utils.data import DataLoader"
      ],
      "execution_count": 1,
      "outputs": []
    },
    {
      "cell_type": "markdown",
      "metadata": {
        "id": "nlfSxrehmuYW"
      },
      "source": [
        "## Ejercicio 1\n",
        "\n"
      ]
    },
    {
      "cell_type": "markdown",
      "metadata": {
        "id": "FY2z-GSXoFvq"
      },
      "source": [
        "Se quiere encontrar el máximo de la siguiente función:\n",
        "\n",
        "$z = -(x - 2)^2 - (y - 3)^2 + 4$\n",
        "\n",
        "(a) Aplicar gradiente e igualar a zero para encontrar los valores de x e y donde z tiene un máximo. Cuál es el valor del máximo?\n",
        "\n",
        "(b) Aplicar SGD para encontrar la ubicación del máximo de manera numérica."
      ]
    },
    {
      "cell_type": "markdown",
      "metadata": {
        "id": "RUo_x5j1rO0P"
      },
      "source": [
        "El gradiente de z tiene dos componentes, dz/dx y dz/dy, debemos igualar ambos a cero para poder encontrar un máximo.\n",
        "$\n",
        "dz/dx = -2 * (x - 2) = 0 => x = 2\n",
        "$\n",
        "<br>\n",
        "$\n",
        "dz/dy = -2 * ( y - 3) = 0 => y = 3\n",
        "$\n",
        "<br>\n",
        "$\n",
        "Zmax = - ( 2 - 2)^2 - (y - 3) ^ 2 + 4 = 4\n",
        "$"
      ]
    },
    {
      "cell_type": "code",
      "metadata": {
        "id": "LTnhZrU-sUTx"
      },
      "source": [
        "def loss_function(x, y):\n",
        "    z = - np.power(x-2,2) - np.power(y-3,2) + 4\n",
        "    return z\n",
        "\n",
        "\n",
        "def gradient(x, y):\n",
        "    grad_x = -2*(x-2)\n",
        "    grad_y = -2*(y-3)\n",
        "    return grad_x, grad_y\n",
        "\n",
        "def StochasticGradientDescent(x, y, lr, epochs, tolerance):\n",
        "    losses=[]\n",
        "    x_values=[]\n",
        "    y_values=[]\n",
        "    for i in range(epochs):\n",
        "        x_values.append(x)\n",
        "        y_values.append(y)\n",
        "        loss=loss_function(x,y)\n",
        "        losses.append(loss)\n",
        "        grad_x, grad_y = gradient(x,y)\n",
        "        x2=x+lr*grad_x\n",
        "        y2=y+lr*grad_y\n",
        "        if (np.abs(x2-x)<tolerance) & (np.abs(y2-y)<tolerance):\n",
        "            break\n",
        "        x=x2\n",
        "        y=y2\n",
        "    \n",
        "    fig, ax = plt.subplots(3,figsize=(10,10))\n",
        "    ax[0].plot(losses,c='blue')\n",
        "    ax[0].set_title(\"Loss\")\n",
        "    ax[1].plot(x_values,c='red')\n",
        "    ax[1].set_title(\"x values\")\n",
        "    ax[2].plot(y_values,c='red')\n",
        "    ax[2].set_title(\"y values\")\n",
        "    ax[2].set_xlabel(\"Epochs\")\n",
        "    \n",
        "    \n",
        "    return x,y,loss"
      ],
      "execution_count": 2,
      "outputs": []
    },
    {
      "cell_type": "code",
      "metadata": {
        "colab": {
          "base_uri": "https://localhost:8080/",
          "height": 672
        },
        "id": "btp7WDK0tj4A",
        "outputId": "6c622f5a-628a-4aa9-cda1-bbd7db48794b"
      },
      "source": [
        "x_max,y_max,z_max=StochasticGradientDescent(-4,7,0.1,30,tolerance=0.01)\n",
        "print(\"X max: {}\".format(x_max))\n",
        "print(\"Y_max: {}\".format(y_max))\n",
        "print(\"Z_max: {}\".format(z_max))"
      ],
      "execution_count": 3,
      "outputs": [
        {
          "output_type": "stream",
          "text": [
            "X max: 1.955727814223097\n",
            "Y_max: 3.0295147905179354\n",
            "Z_max: 3.997168850707218\n"
          ],
          "name": "stdout"
        },
        {
          "output_type": "display_data",
          "data": {
            "image/png": "[encoded data removed]",
            "text/plain": [
              "<Figure size 720x720 with 3 Axes>"
            ]
          },
          "metadata": {
            "needs_background": "light"
          }
        }
      ]
    },
    {
      "cell_type": "markdown",
      "metadata": {
        "id": "IFeYux28uf2F"
      },
      "source": [
        "**Se verifica la correspondencia entre los valores calculados numéricamente y los valores calculados analíticamente**"
      ]
    },
    {
      "cell_type": "markdown",
      "metadata": {
        "id": "73yqE_Sslwif"
      },
      "source": [
        "## Ejercicio 2 \n",
        "\n",
        "Descargar el dataset del siguiente link: https://drive.google.com/file/d/1X8_G5BpQMi-Nnbtms2RL8lcWSxzD8ixd/view?usp=sharing\n",
        "\n",
        "El dataset son compras de productos que diferentes clientes realizaron durante el black sales.\n",
        "\n",
        "El dataset contiene información sobre las transacciones y el objetivo es poder utilizar el dataset para crear diferentes modelos que puedan predecir cuanto un cliente está dispuesto a gastar en un producto en el futuro. Particularmente, vamos a tratar este problema como una clasificación binaria donde queremos averiguar si el cliente va a gatar mucha plata (más de 9000) o poca plata (menos de 9000).\n",
        "\n",
        "Vamos a construir 5 modelos:\n",
        "\n",
        "* Un modeo que siempre predice que los clientes gastan mucha plata en todos los productos.\n",
        "* Un modelo del tipo de Regresión Logīstica Lineal. \n",
        "* Un modelo del tipo Random Forest.\n",
        "* Un modelo del tipo Deep Learning sin embeddings.\n",
        "* Un modelo del tipo Deep Learning con embeddings.\n",
        "\n",
        "A continuación está el código para conectar Google Drive, algunos imports que vas a necesitar (podes agregar más) y el comando para levantar el dataset."
      ]
    },
    {
      "cell_type": "code",
      "metadata": {
        "id": "RLYjGp03v1W_",
        "colab": {
          "base_uri": "https://localhost:8080/"
        },
        "outputId": "9f0706e6-e774-4e06-a360-293631f8419a"
      },
      "source": [
        "from google.colab import drive\n",
        "drive.mount('/content/drive')"
      ],
      "execution_count": 4,
      "outputs": [
        {
          "output_type": "stream",
          "text": [
            "Drive already mounted at /content/drive; to attempt to forcibly remount, call drive.mount(\"/content/drive\", force_remount=True).\n"
          ],
          "name": "stdout"
        }
      ]
    },
    {
      "cell_type": "code",
      "metadata": {
        "id": "fDV4iJGlmXl9"
      },
      "source": [
        "path_to_ds = \"/content/drive/MyDrive/black_sales.csv\"\n",
        "df_train = pd.read_csv(path_to_ds)"
      ],
      "execution_count": 5,
      "outputs": []
    },
    {
      "cell_type": "markdown",
      "metadata": {
        "id": "8rJppFfPy_Wf"
      },
      "source": [
        "### (a) Análisis de datos\n",
        "\n",
        "1. Imprimir las 5 primeros filas del dataset. \n",
        "2. Imprimir los tipos de cada columna del dataset.\n",
        "3. Imprimir las estadísticas básicas de cada columnas. \n",
        "4. Hacer un histograma de la variable Purchase.\n",
        "5. Que columnas son categóricas y cuales son numéricas?\n",
        "6. Para las columnas categóricas, cuántas clases únicas tienen cada una?"
      ]
    },
    {
      "cell_type": "code",
      "metadata": {
        "id": "t1O4vt45vzZw",
        "colab": {
          "base_uri": "https://localhost:8080/",
          "height": 204
        },
        "outputId": "718220bf-145a-44fc-b432-a6639d360eb8"
      },
      "source": [
        "# Punto 1\n",
        "df_train.head()"
      ],
      "execution_count": 6,
      "outputs": [
        {
          "output_type": "execute_result",
          "data": {
            "text/html": [
              "<div>\n",
              "<style scoped>\n",
              "    .dataframe tbody tr th:only-of-type {\n",
              "        vertical-align: middle;\n",
              "    }\n",
              "\n",
              "    .dataframe tbody tr th {\n",
              "        vertical-align: top;\n",
              "    }\n",
              "\n",
              "    .dataframe thead th {\n",
              "        text-align: right;\n",
              "    }\n",
              "</style>\n",
              "<table border=\"1\" class=\"dataframe\">\n",
              "  <thead>\n",
              "    <tr style=\"text-align: right;\">\n",
              "      <th></th>\n",
              "      <th>User_ID</th>\n",
              "      <th>Product_ID</th>\n",
              "      <th>Gender</th>\n",
              "      <th>Age</th>\n",
              "      <th>Occupation</th>\n",
              "      <th>City_Category</th>\n",
              "      <th>Stay_In_Current_City_Years</th>\n",
              "      <th>Marital_Status</th>\n",
              "      <th>Product_Category_1</th>\n",
              "      <th>Product_Category_2</th>\n",
              "      <th>Product_Category_3</th>\n",
              "      <th>Purchase</th>\n",
              "    </tr>\n",
              "  </thead>\n",
              "  <tbody>\n",
              "    <tr>\n",
              "      <th>0</th>\n",
              "      <td>1000001</td>\n",
              "      <td>P00069042</td>\n",
              "      <td>F</td>\n",
              "      <td>0-17</td>\n",
              "      <td>10</td>\n",
              "      <td>A</td>\n",
              "      <td>2</td>\n",
              "      <td>0</td>\n",
              "      <td>3</td>\n",
              "      <td>NaN</td>\n",
              "      <td>NaN</td>\n",
              "      <td>8370</td>\n",
              "    </tr>\n",
              "    <tr>\n",
              "      <th>1</th>\n",
              "      <td>1000001</td>\n",
              "      <td>P00248942</td>\n",
              "      <td>F</td>\n",
              "      <td>0-17</td>\n",
              "      <td>10</td>\n",
              "      <td>A</td>\n",
              "      <td>2</td>\n",
              "      <td>0</td>\n",
              "      <td>1</td>\n",
              "      <td>6.0</td>\n",
              "      <td>14.0</td>\n",
              "      <td>15200</td>\n",
              "    </tr>\n",
              "    <tr>\n",
              "      <th>2</th>\n",
              "      <td>1000001</td>\n",
              "      <td>P00087842</td>\n",
              "      <td>F</td>\n",
              "      <td>0-17</td>\n",
              "      <td>10</td>\n",
              "      <td>A</td>\n",
              "      <td>2</td>\n",
              "      <td>0</td>\n",
              "      <td>12</td>\n",
              "      <td>NaN</td>\n",
              "      <td>NaN</td>\n",
              "      <td>1422</td>\n",
              "    </tr>\n",
              "    <tr>\n",
              "      <th>3</th>\n",
              "      <td>1000001</td>\n",
              "      <td>P00085442</td>\n",
              "      <td>F</td>\n",
              "      <td>0-17</td>\n",
              "      <td>10</td>\n",
              "      <td>A</td>\n",
              "      <td>2</td>\n",
              "      <td>0</td>\n",
              "      <td>12</td>\n",
              "      <td>14.0</td>\n",
              "      <td>NaN</td>\n",
              "      <td>1057</td>\n",
              "    </tr>\n",
              "    <tr>\n",
              "      <th>4</th>\n",
              "      <td>1000002</td>\n",
              "      <td>P00285442</td>\n",
              "      <td>M</td>\n",
              "      <td>55+</td>\n",
              "      <td>16</td>\n",
              "      <td>C</td>\n",
              "      <td>4+</td>\n",
              "      <td>0</td>\n",
              "      <td>8</td>\n",
              "      <td>NaN</td>\n",
              "      <td>NaN</td>\n",
              "      <td>7969</td>\n",
              "    </tr>\n",
              "  </tbody>\n",
              "</table>\n",
              "</div>"
            ],
            "text/plain": [
              "   User_ID Product_ID Gender  ... Product_Category_2  Product_Category_3 Purchase\n",
              "0  1000001  P00069042      F  ...                NaN                 NaN     8370\n",
              "1  1000001  P00248942      F  ...                6.0                14.0    15200\n",
              "2  1000001  P00087842      F  ...                NaN                 NaN     1422\n",
              "3  1000001  P00085442      F  ...               14.0                 NaN     1057\n",
              "4  1000002  P00285442      M  ...                NaN                 NaN     7969\n",
              "\n",
              "[5 rows x 12 columns]"
            ]
          },
          "metadata": {},
          "execution_count": 6
        }
      ]
    },
    {
      "cell_type": "code",
      "metadata": {
        "colab": {
          "base_uri": "https://localhost:8080/"
        },
        "id": "Ykci2pU5vwDg",
        "outputId": "bfc77cb3-36a2-4bac-f3ab-8daa3d860f3d"
      },
      "source": [
        "# Punto 2\n",
        "df_train.dtypes"
      ],
      "execution_count": 7,
      "outputs": [
        {
          "output_type": "execute_result",
          "data": {
            "text/plain": [
              "User_ID                         int64\n",
              "Product_ID                     object\n",
              "Gender                         object\n",
              "Age                            object\n",
              "Occupation                      int64\n",
              "City_Category                  object\n",
              "Stay_In_Current_City_Years     object\n",
              "Marital_Status                  int64\n",
              "Product_Category_1              int64\n",
              "Product_Category_2            float64\n",
              "Product_Category_3            float64\n",
              "Purchase                        int64\n",
              "dtype: object"
            ]
          },
          "metadata": {},
          "execution_count": 7
        }
      ]
    },
    {
      "cell_type": "code",
      "metadata": {
        "colab": {
          "base_uri": "https://localhost:8080/",
          "height": 297
        },
        "id": "ecNDRTQ7v72r",
        "outputId": "72718f95-0635-4c19-d4ed-66451606a5a6"
      },
      "source": [
        "# Punto 3\n",
        "df_train.describe()"
      ],
      "execution_count": 8,
      "outputs": [
        {
          "output_type": "execute_result",
          "data": {
            "text/html": [
              "<div>\n",
              "<style scoped>\n",
              "    .dataframe tbody tr th:only-of-type {\n",
              "        vertical-align: middle;\n",
              "    }\n",
              "\n",
              "    .dataframe tbody tr th {\n",
              "        vertical-align: top;\n",
              "    }\n",
              "\n",
              "    .dataframe thead th {\n",
              "        text-align: right;\n",
              "    }\n",
              "</style>\n",
              "<table border=\"1\" class=\"dataframe\">\n",
              "  <thead>\n",
              "    <tr style=\"text-align: right;\">\n",
              "      <th></th>\n",
              "      <th>User_ID</th>\n",
              "      <th>Occupation</th>\n",
              "      <th>Marital_Status</th>\n",
              "      <th>Product_Category_1</th>\n",
              "      <th>Product_Category_2</th>\n",
              "      <th>Product_Category_3</th>\n",
              "      <th>Purchase</th>\n",
              "    </tr>\n",
              "  </thead>\n",
              "  <tbody>\n",
              "    <tr>\n",
              "      <th>count</th>\n",
              "      <td>5.500680e+05</td>\n",
              "      <td>550068.000000</td>\n",
              "      <td>550068.000000</td>\n",
              "      <td>550068.000000</td>\n",
              "      <td>376430.000000</td>\n",
              "      <td>166821.000000</td>\n",
              "      <td>550068.000000</td>\n",
              "    </tr>\n",
              "    <tr>\n",
              "      <th>mean</th>\n",
              "      <td>1.003029e+06</td>\n",
              "      <td>8.076707</td>\n",
              "      <td>0.409653</td>\n",
              "      <td>5.404270</td>\n",
              "      <td>9.842329</td>\n",
              "      <td>12.668243</td>\n",
              "      <td>9263.968713</td>\n",
              "    </tr>\n",
              "    <tr>\n",
              "      <th>std</th>\n",
              "      <td>1.727592e+03</td>\n",
              "      <td>6.522660</td>\n",
              "      <td>0.491770</td>\n",
              "      <td>3.936211</td>\n",
              "      <td>5.086590</td>\n",
              "      <td>4.125338</td>\n",
              "      <td>5023.065394</td>\n",
              "    </tr>\n",
              "    <tr>\n",
              "      <th>min</th>\n",
              "      <td>1.000001e+06</td>\n",
              "      <td>0.000000</td>\n",
              "      <td>0.000000</td>\n",
              "      <td>1.000000</td>\n",
              "      <td>2.000000</td>\n",
              "      <td>3.000000</td>\n",
              "      <td>12.000000</td>\n",
              "    </tr>\n",
              "    <tr>\n",
              "      <th>25%</th>\n",
              "      <td>1.001516e+06</td>\n",
              "      <td>2.000000</td>\n",
              "      <td>0.000000</td>\n",
              "      <td>1.000000</td>\n",
              "      <td>5.000000</td>\n",
              "      <td>9.000000</td>\n",
              "      <td>5823.000000</td>\n",
              "    </tr>\n",
              "    <tr>\n",
              "      <th>50%</th>\n",
              "      <td>1.003077e+06</td>\n",
              "      <td>7.000000</td>\n",
              "      <td>0.000000</td>\n",
              "      <td>5.000000</td>\n",
              "      <td>9.000000</td>\n",
              "      <td>14.000000</td>\n",
              "      <td>8047.000000</td>\n",
              "    </tr>\n",
              "    <tr>\n",
              "      <th>75%</th>\n",
              "      <td>1.004478e+06</td>\n",
              "      <td>14.000000</td>\n",
              "      <td>1.000000</td>\n",
              "      <td>8.000000</td>\n",
              "      <td>15.000000</td>\n",
              "      <td>16.000000</td>\n",
              "      <td>12054.000000</td>\n",
              "    </tr>\n",
              "    <tr>\n",
              "      <th>max</th>\n",
              "      <td>1.006040e+06</td>\n",
              "      <td>20.000000</td>\n",
              "      <td>1.000000</td>\n",
              "      <td>20.000000</td>\n",
              "      <td>18.000000</td>\n",
              "      <td>18.000000</td>\n",
              "      <td>23961.000000</td>\n",
              "    </tr>\n",
              "  </tbody>\n",
              "</table>\n",
              "</div>"
            ],
            "text/plain": [
              "            User_ID     Occupation  ...  Product_Category_3       Purchase\n",
              "count  5.500680e+05  550068.000000  ...       166821.000000  550068.000000\n",
              "mean   1.003029e+06       8.076707  ...           12.668243    9263.968713\n",
              "std    1.727592e+03       6.522660  ...            4.125338    5023.065394\n",
              "min    1.000001e+06       0.000000  ...            3.000000      12.000000\n",
              "25%    1.001516e+06       2.000000  ...            9.000000    5823.000000\n",
              "50%    1.003077e+06       7.000000  ...           14.000000    8047.000000\n",
              "75%    1.004478e+06      14.000000  ...           16.000000   12054.000000\n",
              "max    1.006040e+06      20.000000  ...           18.000000   23961.000000\n",
              "\n",
              "[8 rows x 7 columns]"
            ]
          },
          "metadata": {},
          "execution_count": 8
        }
      ]
    },
    {
      "cell_type": "code",
      "metadata": {
        "colab": {
          "base_uri": "https://localhost:8080/"
        },
        "id": "tpNSgTun8HzK",
        "outputId": "0f0743f6-5e8b-402d-ea48-53a316972cae"
      },
      "source": [
        "len(df_train)"
      ],
      "execution_count": 9,
      "outputs": [
        {
          "output_type": "execute_result",
          "data": {
            "text/plain": [
              "550068"
            ]
          },
          "metadata": {},
          "execution_count": 9
        }
      ]
    },
    {
      "cell_type": "code",
      "metadata": {
        "colab": {
          "base_uri": "https://localhost:8080/",
          "height": 367
        },
        "id": "eAaRMT4pwFNT",
        "outputId": "3fb5fe16-2f41-459a-9c43-9d4736d8639d"
      },
      "source": [
        "# Punto 4\n",
        "purchase = df_train.Purchase.to_numpy()\n",
        "fig, ax1 = plt.subplots(1,1)\n",
        "ax1.hist(purchase)"
      ],
      "execution_count": 10,
      "outputs": [
        {
          "output_type": "execute_result",
          "data": {
            "text/plain": [
              "(array([ 36844.,  57919., 132275., 104918.,  76784.,  30178.,  64558.,\n",
              "         12695.,  31539.,   2358.]),\n",
              " array([1.20000e+01, 2.40690e+03, 4.80180e+03, 7.19670e+03, 9.59160e+03,\n",
              "        1.19865e+04, 1.43814e+04, 1.67763e+04, 1.91712e+04, 2.15661e+04,\n",
              "        2.39610e+04]),\n",
              " <a list of 10 Patch objects>)"
            ]
          },
          "metadata": {},
          "execution_count": 10
        },
        {
          "output_type": "display_data",
          "data": {
            "image/png": "[encoded data removed]",
            "text/plain": [
              "<Figure size 432x288 with 1 Axes>"
            ]
          },
          "metadata": {
            "needs_background": "light"
          }
        }
      ]
    },
    {
      "cell_type": "markdown",
      "metadata": {
        "id": "WsMEomDtwc0T"
      },
      "source": [
        "Punto 5\n",
        "\n",
        "Observando los tipos de datos y la cantidad de elementos únicos de las columnas podemos decir que la únicas variable numérica es \"Purchase\". \n",
        "\n",
        "Nota: Ocuppation debería analizarse un poco en mayor profundidad si es  numérica o corresponde a categorías. En principo la consideramos categórica.\n",
        "\n",
        "La edad también podría haber sido numérica pero en el dataset esta planteado como rango etario, es decir, lo utiliza como una categoría. Lo mismo sucede con Stay_In_Current_City_years que posee una categoría para 4 o mas años.\n",
        "\n",
        "Dicho lo anterior, las variables categóricas serían: \n",
        "\n",
        "User_ID, Product_ID, Gender, Age, City_Category, Stay_In_Current_City_Years, Marital_Status, Product_Catgory_1, Product_Catgory_2, Product_Catgory_3 "
      ]
    },
    {
      "cell_type": "code",
      "metadata": {
        "colab": {
          "base_uri": "https://localhost:8080/"
        },
        "id": "We90ZZPSwcTh",
        "outputId": "13e9a26c-81a8-4ca2-98bf-0ee9bcaa075f"
      },
      "source": [
        "# Punto 6\n",
        "print(df_train.apply(lambda col: len(col.unique())))"
      ],
      "execution_count": 11,
      "outputs": [
        {
          "output_type": "stream",
          "text": [
            "User_ID                        5891\n",
            "Product_ID                     3631\n",
            "Gender                            2\n",
            "Age                               7\n",
            "Occupation                       21\n",
            "City_Category                     3\n",
            "Stay_In_Current_City_Years        5\n",
            "Marital_Status                    2\n",
            "Product_Category_1               20\n",
            "Product_Category_2               18\n",
            "Product_Category_3               16\n",
            "Purchase                      18105\n",
            "dtype: int64\n"
          ],
          "name": "stdout"
        }
      ]
    },
    {
      "cell_type": "markdown",
      "metadata": {
        "id": "udbOuqkHyiP1"
      },
      "source": [
        "Observamos que User_Id y Product_Id poseen alta cardinalidad"
      ]
    },
    {
      "cell_type": "markdown",
      "metadata": {
        "id": "L4BRHI9azEfL"
      },
      "source": [
        "### (b) Limpieza de datos\n",
        "\n",
        "1. Que columnas tienen NaNs?\n",
        "2. Si la cantidad de filas afectas por NaNs es grande, se propone reemplazar los NaNs por una nueva clase, por ejemplo el valor 999. \n"
      ]
    },
    {
      "cell_type": "code",
      "metadata": {
        "id": "ugQyKyUczHMY",
        "colab": {
          "base_uri": "https://localhost:8080/"
        },
        "outputId": "463bb96c-d984-464d-9abb-301c1bcb65bf"
      },
      "source": [
        "print(df_train.apply(lambda col: col.isnull().sum()))"
      ],
      "execution_count": 12,
      "outputs": [
        {
          "output_type": "stream",
          "text": [
            "User_ID                            0\n",
            "Product_ID                         0\n",
            "Gender                             0\n",
            "Age                                0\n",
            "Occupation                         0\n",
            "City_Category                      0\n",
            "Stay_In_Current_City_Years         0\n",
            "Marital_Status                     0\n",
            "Product_Category_1                 0\n",
            "Product_Category_2            173638\n",
            "Product_Category_3            383247\n",
            "Purchase                           0\n",
            "dtype: int64\n"
          ],
          "name": "stdout"
        }
      ]
    },
    {
      "cell_type": "markdown",
      "metadata": {
        "id": "ZU2q7sqGyvQ_"
      },
      "source": [
        "Observamos que solo Product_Category_2 y Product_Category_3 posee NaN, reemplazamos estos por el valor 999"
      ]
    },
    {
      "cell_type": "code",
      "metadata": {
        "id": "2E4eJE49yunF"
      },
      "source": [
        "df_train.loc[df_train.Product_Category_2.isna(),'Product_Category_2']=999\n",
        "df_train.loc[df_train.Product_Category_3.isna(),'Product_Category_3']=999"
      ],
      "execution_count": 13,
      "outputs": []
    },
    {
      "cell_type": "code",
      "metadata": {
        "colab": {
          "base_uri": "https://localhost:8080/"
        },
        "id": "93EGUfxGziin",
        "outputId": "9fb0127f-9d7f-4db6-fb9f-dae0575deb9b"
      },
      "source": [
        "print(df_train.apply(lambda col: col.isnull().sum()))"
      ],
      "execution_count": 14,
      "outputs": [
        {
          "output_type": "stream",
          "text": [
            "User_ID                       0\n",
            "Product_ID                    0\n",
            "Gender                        0\n",
            "Age                           0\n",
            "Occupation                    0\n",
            "City_Category                 0\n",
            "Stay_In_Current_City_Years    0\n",
            "Marital_Status                0\n",
            "Product_Category_1            0\n",
            "Product_Category_2            0\n",
            "Product_Category_3            0\n",
            "Purchase                      0\n",
            "dtype: int64\n"
          ],
          "name": "stdout"
        }
      ]
    },
    {
      "cell_type": "markdown",
      "metadata": {
        "id": "kFOEkF06zHpP"
      },
      "source": [
        "### (c) Ingeniería de features\n",
        "\n",
        "1. Transformar todas las variables categoricas (expecto User_Id y Prdoct_Id) en one-hot-encoding. \n",
        "2. Crear un index para User_Id y Product_id, para poder entrenar un modelo de Deep Learning con embeddings.\n",
        "3. Porque es importante crear un index para entrenar el modelo de Deep Learning con embeddings?\n",
        "4. Porque es importante guardar el mapping de id a index?\n",
        "5. Transformar la variable Purchase en una variable purchase_binary, tal que todos los valores mayores a 9000 hagan un mapping a 1 y todos los valores menores o iguales a 9000 hagan un mapping a 0.\n",
        "6. Normalizar todos los valores entre 0 y 1.\n",
        "7. Hacer un split del dataset en training (70%), validation (20%) y testing (10%). Para crear el dataset de training se recomienda separar User_id y Product_id de la matriz x_train, x_valid y x_test. Pero también obtener user_idx_train, user_idx_valid y user_idex_test de tal manera que sea correspondientes con las matrices x. Lo mismo para el Product_Id. "
      ]
    },
    {
      "cell_type": "code",
      "metadata": {
        "id": "atxZG4c8zJZk"
      },
      "source": [
        "# Punto 1\n",
        "y = pd.get_dummies(df_train.Gender, prefix=\"Gender\")\n",
        "df_train = pd.concat([df_train,y], axis=1)\n",
        "\n",
        "y = pd.get_dummies(df_train.Age, prefix=\"Age\")\n",
        "df_train = pd.concat([df_train,y], axis=1)\n",
        "\n",
        "y = pd.get_dummies(df_train.Occupation, prefix=\"Occupation\")\n",
        "df_train = pd.concat([df_train,y], axis=1)\n",
        "\n",
        "y = pd.get_dummies(df_train.City_Category, prefix=\"City\")\n",
        "df_train = pd.concat([df_train,y], axis=1)\n",
        "\n",
        "y = pd.get_dummies(df_train.Stay_In_Current_City_Years, prefix=\"Stay\")\n",
        "df_train = pd.concat([df_train,y], axis=1)\n",
        "\n",
        "y = pd.get_dummies(df_train.Marital_Status, prefix=\"Marital\")\n",
        "df_train = pd.concat([df_train,y], axis=1)\n",
        "\n",
        "y = pd.get_dummies(df_train.Product_Category_1, prefix=\"ProdCat1\")\n",
        "df_train = pd.concat([df_train,y], axis=1)\n",
        "\n",
        "y = pd.get_dummies(df_train.Product_Category_2, prefix=\"ProdCat2\")\n",
        "df_train = pd.concat([df_train,y], axis=1)\n",
        "\n",
        "y = pd.get_dummies(df_train.Product_Category_3, prefix=\"ProdCat3\")\n",
        "df_train = pd.concat([df_train,y], axis=1)"
      ],
      "execution_count": 15,
      "outputs": []
    },
    {
      "cell_type": "code",
      "metadata": {
        "id": "ltlRvild1gNc"
      },
      "source": [
        "# Punto 2\n",
        "user_u, user_indices, user_inverse = np.unique(df_train.User_ID, return_index=True, return_inverse=True)\n",
        "# Mapeo el vendor id a un número de indice\n",
        "user_id_to_index = {key:value for key,value in zip(user_u,user_inverse)}\n",
        "user_index = np.array([user_id_to_index[id] for id in df_train.User_ID])"
      ],
      "execution_count": 16,
      "outputs": []
    },
    {
      "cell_type": "code",
      "metadata": {
        "id": "96MIyypz11H6"
      },
      "source": [
        "product_u, product_indices, product_inverse = np.unique(df_train.Product_ID, return_index=True, return_inverse=True)\n",
        "# Mapeo el vendor id a un número de indice\n",
        "product_id_to_index = {key:value for key,value in zip(product_u,product_inverse)}\n",
        "product_index = np.array([product_id_to_index[id] for id in df_train.Product_ID])"
      ],
      "execution_count": 17,
      "outputs": []
    },
    {
      "cell_type": "markdown",
      "metadata": {
        "id": "RlpJvfII2RBM"
      },
      "source": [
        "**Punto 3**\n",
        "\n",
        "El layer embedding usa índices enteros de una tabla para hacer la correspondencia feature de entrada con el vector de números reales de salida(embeddings). Por lo tanto, dado que User_Id y Product_Id no tienen la codificación necesaria, creamos un indíce donde mapeamos previamente los valores únicos de User_id y Product_Id a enteros consecutivos. "
      ]
    },
    {
      "cell_type": "markdown",
      "metadata": {
        "id": "fPGP5dVd28VD"
      },
      "source": [
        "**Punto 4**\n",
        "\n",
        "El mapping de id a index lo necesitamos para hacer la transformación a enteros consecutivos, no solo en la etapa de entrenamiento sino también cuando corramos el modelo sobre nuevos datos. Antes de ejecutar el modelo sobre nuevos datos, los id deben ser adecuadamente transformados a index"
      ]
    },
    {
      "cell_type": "code",
      "metadata": {
        "id": "FPhpiI5Y3avX"
      },
      "source": [
        "# Punto 5\n",
        "df_train['purchase_binary'] = df_train.Purchase.apply(lambda label:0 if label<=9000 else 1)"
      ],
      "execution_count": 18,
      "outputs": []
    },
    {
      "cell_type": "code",
      "metadata": {
        "id": "Ra1AOQ9g6Bug"
      },
      "source": [
        "# Punto 6\n",
        "df_final = df_train.drop(['User_ID', 'Product_ID','Gender','Age','City_Category', 'Occupation','Stay_In_Current_City_Years','Marital_Status','Product_Category_1',\\\n",
        "               'Product_Category_2','Product_Category_3', 'Purchase', 'purchase_binary'],axis=1, inplace=False)\n",
        "\n",
        "y_final = df_train['purchase_binary']"
      ],
      "execution_count": 19,
      "outputs": []
    },
    {
      "cell_type": "code",
      "metadata": {
        "id": "7sYXAxg35VxL"
      },
      "source": [
        "scaler = MinMaxScaler()\n",
        "df_final=scaler.fit_transform(df_final)"
      ],
      "execution_count": 20,
      "outputs": []
    },
    {
      "cell_type": "code",
      "metadata": {
        "colab": {
          "base_uri": "https://localhost:8080/"
        },
        "id": "8u1WBqTl6LF7",
        "outputId": "84def1f2-15aa-434d-e79b-13ccd2ead4e7"
      },
      "source": [
        "# Punto 7\n",
        "x_train, x_test, Y_train, Y_test, user_train, user_test, product_train, product_test = \\\n",
        "    model_selection.train_test_split( df_final, y_final, user_index, product_index, test_size=0.1, random_state=5)\n",
        "\n",
        "x_train, x_valid, Y_train, Y_valid, user_train, user_valid, product_train, product_valid= \\\n",
        "    model_selection.train_test_split( x_train, Y_train, user_train, product_train, test_size=0.22222222, random_state=5)\n",
        "\n",
        "print(x_train.shape)\n",
        "print(x_valid.shape)\n",
        "print(x_test.shape)"
      ],
      "execution_count": 21,
      "outputs": [
        {
          "output_type": "stream",
          "text": [
            "(385047, 94)\n",
            "(110014, 94)\n",
            "(55007, 94)\n"
          ],
          "name": "stdout"
        }
      ]
    },
    {
      "cell_type": "markdown",
      "metadata": {
        "id": "l2ZmJic-zJ00"
      },
      "source": [
        "### (d) Modelo base\n",
        "\n",
        "1. Entrenar un modelo base que siempre de como predicción que el purchase del cliente es de valor elevado.\n",
        "2. Calcular el AUC de este modelo.\n",
        "3. Porque es importante siempre definir un modelo base?"
      ]
    },
    {
      "cell_type": "code",
      "metadata": {
        "id": "W3V9S_FpzMvh"
      },
      "source": [
        "class ConstantModel(object):\n",
        "    def fit(self, X, y):\n",
        "        return None\n",
        "\n",
        "    def predict(self,X):\n",
        "        return np.ones(shape=(X.shape[0]))\n",
        "\n",
        "    def predict_proba(self, X):\n",
        "        return np.ones(shape=(X.shape[0]))"
      ],
      "execution_count": 22,
      "outputs": []
    },
    {
      "cell_type": "code",
      "metadata": {
        "colab": {
          "base_uri": "https://localhost:8080/"
        },
        "id": "n6jZ9rpJ8732",
        "outputId": "880369ef-8fff-4d23-b46b-b641b5baf28e"
      },
      "source": [
        "base_model = ConstantModel()\n",
        "base_model.fit(x_train,Y_train)\n",
        "\n",
        "predictions = base_model.predict_proba(x_train)\n",
        "train_auc = roc_auc_score(Y_train, predictions)\n",
        "print(f\"Train AUC for constant model: {train_auc}\")\n",
        "\n",
        "predictions = base_model.predict_proba(x_valid)\n",
        "valid_auc = roc_auc_score(Y_valid, predictions)\n",
        "print(f\"Valid AUC for constant model: {valid_auc}\")"
      ],
      "execution_count": 23,
      "outputs": [
        {
          "output_type": "stream",
          "text": [
            "Train AUC for constant model: 0.5\n",
            "Valid AUC for constant model: 0.5\n"
          ],
          "name": "stdout"
        }
      ]
    },
    {
      "cell_type": "markdown",
      "metadata": {
        "id": "qcZ6N6Kx-LjJ"
      },
      "source": [
        "Es importante definir un modelo base para tener una idea del valor mínimo de las métricas del problema que cualquier modelo que realmente funcione debe superar."
      ]
    },
    {
      "cell_type": "markdown",
      "metadata": {
        "id": "ZtmrDLMBzOzv"
      },
      "source": [
        "### (e) Regresión logísica\n",
        "\n",
        "1. Entrenar un modelo de regresión logística que sea mejor que el modelo base (no usar User_Id y Product_Id). \n",
        "2. Porque es importante normalizar los datos antes de entrenar el modelo de regresión logística?\n",
        "3. Porque es importante utilizar una metrica como AUC en un problema de clasificación binaria?"
      ]
    },
    {
      "cell_type": "code",
      "metadata": {
        "id": "2gFdeMUOzQyG",
        "colab": {
          "base_uri": "https://localhost:8080/"
        },
        "outputId": "49ae7eb9-79fc-41c2-b824-bfbecfe4d1c6"
      },
      "source": [
        "# Punto 1\n",
        "lr_model = LogisticRegression(C=1, solver='sag', max_iter=1000)\n",
        "lr_model.fit(x_train,Y_train)\n",
        "\n",
        "predictions = lr_model.predict_proba(x_train)\n",
        "train_auc = roc_auc_score(Y_train, predictions[:,1])\n",
        "print(f\"Train AUC for Logistic Regresion: {train_auc}\")\n",
        "\n",
        "predictions = lr_model.predict_proba(x_valid)\n",
        "valid_auc = roc_auc_score(Y_valid, predictions[:,1])\n",
        "print(f\"Valid AUC for Logistic Regresion: {valid_auc}\")"
      ],
      "execution_count": 24,
      "outputs": [
        {
          "output_type": "stream",
          "text": [
            "Train AUC for Logistic Regresion: 0.9279971232654155\n",
            "Valid AUC for Logistic Regresion: 0.9276061531235704\n"
          ],
          "name": "stdout"
        }
      ]
    },
    {
      "cell_type": "markdown",
      "metadata": {
        "id": "nNVKmkbH_R3x"
      },
      "source": [
        "**Punto 2**\n",
        "\n",
        "Si no normalizamos los datos antes de entrenar el modelo, tenemos a la entrada features con diferentes escalas. Los features con escalas mayores, me van a demandar que el learning rate sea pequeño, lo cual me vuelve muy lento el entrenamiento de las features de menor escala. Si por el contrario elijo un learning rate acorde a las features de menor escala, me generan gradientes muy grandes para los features de mayor escala (con el riesgo que esto supone).\n",
        "\n",
        "También, en el caso de regresión logística, tenemos en el camino de cómputo una sigmoid antes de la loss function.\n",
        "La sigmoid tiene como característica que su derivada (utilizada al calcular el backpropagation) posee valores muy pequeños para altos valores la entrada; es decir, cuando la entrada es grande, entrena en forma muy lenta (\"Vanishing Gradient\"). Esta situación se puede dar en caso de no normalizar el dataset.\n"
      ]
    },
    {
      "cell_type": "markdown",
      "metadata": {
        "id": "t1UG1ptfBkZe"
      },
      "source": [
        "**Punto 3**\n",
        "\n",
        "El AUC resume que tan bien detecta el modelo las clases 0 y 1 para diferentes valores de umbral de probabilidad. Es decir, me dice que tan bien separa o distingue el modelo la clase 0 de la clase 1. Resulta entonces muy útil para comparar los diferentes modelos."
      ]
    },
    {
      "cell_type": "markdown",
      "metadata": {
        "id": "lJtPEyt-zRKS"
      },
      "source": [
        "### (f) Random forest\n",
        "\n",
        "1. Entrenar un modelo de Random Forest que sea mejor que el modelo base (no usar User_Id y Product_Id)."
      ]
    },
    {
      "cell_type": "code",
      "metadata": {
        "id": "fYtHyWVZzSX4",
        "colab": {
          "base_uri": "https://localhost:8080/"
        },
        "outputId": "715dd365-8e97-4c96-8cad-7330e593e6b0"
      },
      "source": [
        "# Punto 1\n",
        "rf_model = RandomForestClassifier(n_estimators=10, max_depth=None, random_state=0)\n",
        "rf_model.fit(x_train, Y_train)\n",
        "\n",
        "predictions = rf_model.predict_proba(x_train)\n",
        "train_auc = roc_auc_score(Y_train, predictions[:,1])\n",
        "print(f\"Train AUC for Random Fores: {train_auc}\")\n",
        "\n",
        "predictions = rf_model.predict_proba(x_valid)\n",
        "valid_auc = roc_auc_score(Y_valid, predictions[:,1])\n",
        "print(f\"Valid AUC for Random Forest: {valid_auc}\")"
      ],
      "execution_count": 25,
      "outputs": [
        {
          "output_type": "stream",
          "text": [
            "Train AUC for Random Fores: 0.97202135796404\n",
            "Valid AUC for Random Forest: 0.9193410586157573\n"
          ],
          "name": "stdout"
        }
      ]
    },
    {
      "cell_type": "markdown",
      "metadata": {
        "id": "k6ZCMF7ZzTcI"
      },
      "source": [
        "### (g) Deep learning sin embeddings\n",
        "\n",
        "1. Entrenar un modelo de Deep Learning que no utilice embeddings (no usar User_Id y Product_Id)."
      ]
    },
    {
      "cell_type": "code",
      "metadata": {
        "id": "MMl0QMwYzVJe"
      },
      "source": [
        "class CustomDataset(Dataset):\n",
        "    def __init__(self, X, Y):\n",
        "      self.X=X\n",
        "      self.Y=Y\n",
        "    \n",
        "    def __len__(self):\n",
        "      return self.X.shape[0]\n",
        "    \n",
        "    def __getitem__(self, idx):\n",
        "      return self.X[idx,:], self.Y[idx]\n",
        "  \n",
        "\n",
        "class TestCustomDataset(Dataset):\n",
        "    def __init__(self, X):\n",
        "      self.X=X\n",
        "    \n",
        "    def __len__(self):\n",
        "      return self.X.shape[0]\n",
        "    \n",
        "    def __getitem__(self, idx):\n",
        "      return self.X[idx,:]\n",
        "\n",
        "\n",
        "class NNetLayers(torch.nn.Module):\n",
        "    def __init__(self, n_inputs):\n",
        "        super().__init__()\n",
        "        self.linear_1 = torch.nn.Linear(in_features=n_inputs, out_features=10, bias = True)\n",
        "        self.activation_1 = torch.nn.ReLU()\n",
        "        self.dropout_1= torch.nn.Dropout(p=0.05)\n",
        "        self.linear_2 = torch.nn.Linear(in_features=10, out_features=20, bias = True)\n",
        "        self.activation_2 = torch.nn.ReLU()\n",
        "        self.dropout_2= torch.nn.Dropout(p=0.05)\n",
        "        self.linear_3 = torch.nn.Linear(in_features=20, out_features=1, bias = True)\n",
        "        self.activation_3 = torch.nn.Sigmoid()\n",
        "\n",
        "    def forward(self, x):\n",
        "        # X es el batch que va a entrar\n",
        "        z1 = self.linear_1(x)\n",
        "        a1 = self.activation_1(z1)\n",
        "        d1 = self.dropout_1(a1)\n",
        "        z2 = self.linear_2(d1)\n",
        "        a2 = self.activation_2(z2)\n",
        "        d2 = self.dropout_2(a2)\n",
        "        z3 = self.linear_3(d2)\n",
        "        y = self.activation_3(z3)\n",
        "        return y\n",
        "  \n",
        "    \n",
        "class NnetBinaryClass():\n",
        "    \n",
        "    def __init__(self, n_inputs):\n",
        "        self.nnet = NNetLayers(n_inputs)\n",
        "        self.device = torch.device(\"cuda:0\" if torch.cuda.is_available() else \"cpu\")\n",
        "        pass\n",
        "    \n",
        "        \n",
        "    def fit(self,x_train, y_train, x_valid=None, y_valid=None, \\\n",
        "            batch_size = 32, lr=0.001, epochs=10, verbose=True):\n",
        "        \n",
        "        training_set = CustomDataset(x_train, y_train)\n",
        "        training_dataloader = DataLoader(training_set,batch_size=batch_size, \\\n",
        "                                         shuffle=True)\n",
        "        \n",
        "        if (x_valid is not None) & (y_valid is not None):\n",
        "            valid_set = CustomDataset(x_valid, y_valid)     \n",
        "            valid_dataloader = DataLoader(valid_set,batch_size=len(valid_set), \\\n",
        "                                          shuffle= True)\n",
        "        \n",
        "        # Optimizer\n",
        "        criterion = torch.nn.BCELoss(reduction='sum')\n",
        "        optimizer = torch.optim.Adam(self.nnet.parameters(),\\\n",
        "                                    lr=0.001)\n",
        "    \n",
        "        # Training\n",
        "        self.nnet.to(self.device)\n",
        "        \n",
        "        history_loss=[]\n",
        "        history_train_auc=[]\n",
        "        history_valid_auc=[]\n",
        "        for epoch in range(epochs):\n",
        "            running_loss = 0\n",
        "            nnet_train_scores = []\n",
        "            train_truth = []\n",
        "            self.nnet.train()\n",
        "            for i, data in enumerate(training_dataloader):\n",
        "                # data es una tupla batch (data, label)\n",
        "                x, y = data #todavia esta en numpy\n",
        "                \n",
        "                x = x.to(self.device).float() #convierte a tensores y pasa a GPU si esta disponible\n",
        "                y = y.to(self.device).float() #convierte a tensores y pasa a GPU si esta disponible\n",
        "    \n",
        "                # set gradient to zero\n",
        "                optimizer.zero_grad()\n",
        "    \n",
        "                # forward\n",
        "                y_hat = self.nnet(x)\n",
        "    \n",
        "                # loss\n",
        "                loss = criterion(y_hat[:,0], y)\n",
        "    \n",
        "                # backward\n",
        "                loss.backward()\n",
        "\n",
        "                \n",
        "    \n",
        "                # update of parameters\n",
        "                optimizer.step()\n",
        "    \n",
        "                # compute loss and statistics\n",
        "                running_loss += loss.item()\n",
        "                \n",
        "                train_truth += list(y.detach().numpy()) \n",
        "                nnet_train_scores += list(y_hat[:,0].detach().numpy())\n",
        "                \n",
        "            history_loss.append(running_loss/x_train.shape[0])\n",
        "            \n",
        "            train_auc = roc_auc_score(train_truth, nnet_train_scores)\n",
        "            history_train_auc.append(train_auc)\n",
        "    \n",
        "            \n",
        "            if (verbose) & ((epoch) % (epochs/10)==0):\n",
        "                self.nnet.eval()\n",
        "                with torch.no_grad():\n",
        "                        \n",
        "                    if (x_valid is not None) & (y_valid is not None):\n",
        "                        \n",
        "                        nnet_valid_scores = []\n",
        "                        valid_truth = []\n",
        "                    \n",
        "                        for i, data in enumerate(valid_dataloader):\n",
        "                            # batch\n",
        "                            x, y = data\n",
        "                            x = x.to(self.device).float()\n",
        "                            y = y.to(self.device).float()\n",
        "                \n",
        "                            # forward \n",
        "                            y_hat = self.nnet(x)\n",
        "                \n",
        "                            # accumulate data\n",
        "                            valid_truth += list(y.detach().numpy()) \n",
        "                            nnet_valid_scores += list(y_hat[:,0].detach().numpy())\n",
        "                               \n",
        "                        valid_auc = roc_auc_score(valid_truth, nnet_valid_scores)\n",
        "                        history_valid_auc.append(valid_auc)\n",
        "            \n",
        "                        print(f\"Epoch = {epoch} | \" + \\\n",
        "                              f\"loss = {running_loss / x_train.shape[0]} | \" + \\\n",
        "                                  f\"train auc: {train_auc} | \" + \\\n",
        "                                  f\"valid auc: {valid_auc}\")\n",
        "                    else:\n",
        "                        print(f\"Epoch = {epoch} | \" + \\\n",
        "                              f\"loss = {running_loss / x_train.shape[0]} | \" +\\\n",
        "                                   f\"train auc: {train_auc}\")\n",
        "                            \n",
        "        return history_loss,history_train_auc, history_valid_auc\n",
        "        \n",
        "    def predict(self,x):\n",
        "        self.nnet.eval()\n",
        "        with torch.no_grad():\n",
        "            test_set = TestCustomDataset(x)\n",
        "            test_dataloader = DataLoader(test_set,batch_size=len(test_set), \\\n",
        "                                         shuffle= False)\n",
        "            \n",
        "            for i, data in enumerate(test_dataloader):\n",
        "                x = data \n",
        "                x = x.to(self.device).float() \n",
        "                y_hat = self.nnet(x)\n",
        "                y_hat = y_hat[:,0].detach().numpy()\n",
        "                y_hat = y_hat >= 0.5\n",
        "\n",
        "        return y_hat\n",
        "    \n",
        "    def predict_proba(self,x):\n",
        "        self.nnet.eval()\n",
        "        with torch.no_grad():\n",
        "            test_set = TestCustomDataset(x)\n",
        "            test_dataloader = DataLoader(test_set,batch_size=len(test_set), \\\n",
        "                                         shuffle= False)\n",
        "            \n",
        "            for i, data in enumerate(test_dataloader):\n",
        "                x = data \n",
        "                x = x.to(self.device).float() \n",
        "                y_hat = self.nnet(x)\n",
        "                y_hat = y_hat[:,0].detach().numpy()\n",
        "\n",
        "        return y_hat"
      ],
      "execution_count": 26,
      "outputs": []
    },
    {
      "cell_type": "code",
      "metadata": {
        "colab": {
          "base_uri": "https://localhost:8080/"
        },
        "id": "SfyCKV_iDNpy",
        "outputId": "8bc33d04-1a17-4642-bdd0-838dbd6fcf4c"
      },
      "source": [
        "deep_model = NnetBinaryClass(x_train.shape[1])\n",
        "loss, train_auc, valid_auc = deep_model.fit(x_train, np.array(Y_train),x_valid,np.array(Y_valid), epochs=1)\n",
        "\n",
        "print(f\"Train AUC for Deep NNet: {train_auc[-1]}\")\n",
        "print(f\"Valid AUC for Deep NNet: {valid_auc[-1]}\")"
      ],
      "execution_count": 27,
      "outputs": [
        {
          "output_type": "stream",
          "text": [
            "Epoch = 0 | loss = 0.3215360442941305 | train auc: 0.9240177538370907 | valid auc: 0.9291772305776226\n",
            "Train AUC for Deep NNet: 0.9240177538370907\n",
            "Valid AUC for Deep NNet: 0.9291772305776226\n"
          ],
          "name": "stdout"
        }
      ]
    },
    {
      "cell_type": "markdown",
      "metadata": {
        "id": "rpZwd3PTzVbl"
      },
      "source": [
        "### (h) Deep learning con embeddings\n",
        "\n",
        "1. Entrenar un model de Deep Learning que utilice embeddings de los usuarios y los productos."
      ]
    },
    {
      "cell_type": "code",
      "metadata": {
        "id": "XLPqGmr0zYPu"
      },
      "source": [
        "class CustomEmbDataset(Dataset):\n",
        "    def __init__(self, X, user_index, product_index, Y):\n",
        "      self.X=X\n",
        "      self.user_index=user_index\n",
        "      self.product_index=product_index\n",
        "      self.Y=Y\n",
        "    \n",
        "    def __len__(self):\n",
        "      return self.X.shape[0]\n",
        "    \n",
        "    def __getitem__(self, idx):\n",
        "      return self.X[idx,:],self.user_index[idx], self.product_index[idx], self.Y[idx]\n",
        "  \n",
        "\n",
        "class TestCustomEmbDataset(Dataset):\n",
        "    def __init__(self, X, user_index, product_index):\n",
        "      self.X=X\n",
        "      self.user_index=user_index\n",
        "      self.product_index=product_index\n",
        "    \n",
        "    def __len__(self):\n",
        "      return self.X.shape[0]\n",
        "    \n",
        "    def __getitem__(self, idx):\n",
        "      return self.X[idx,:],self.user_index[idx], self.product_index[idx]\n",
        "\n",
        "\n",
        "class NNetLayersEmb(torch.nn.Module):\n",
        "    def __init__(self, n_inputs, n_user, user_enc_dim, n_product, product_enc_dim):\n",
        "        super().__init__()\n",
        "        self.embedding1 = torch.nn.Embedding(num_embeddings=n_user, embedding_dim=user_enc_dim)\n",
        "        self.embedding2 = torch.nn.Embedding(num_embeddings=n_product, embedding_dim=product_enc_dim)\n",
        "        self.linear_1 = torch.nn.Linear(in_features=(n_inputs+user_enc_dim+product_enc_dim), out_features=10, bias = True)\n",
        "        self.activation_1 = torch.nn.ReLU()\n",
        "        self.dropout_1= torch.nn.Dropout(p=0.05)\n",
        "        self.linear_2 = torch.nn.Linear(in_features=10, out_features=20, bias = True)\n",
        "        self.activation_2 = torch.nn.ReLU()\n",
        "        self.dropout_2= torch.nn.Dropout(p=0.05)\n",
        "        self.linear_3 = torch.nn.Linear(in_features=20, out_features=1, bias = True)\n",
        "        self.activation_3 = torch.nn.Sigmoid()\n",
        "\n",
        "    def forward(self, x, user_index, product_index):\n",
        "        user_emb = self.embedding1(user_index)\n",
        "        product_emb = self.embedding2(product_index)\n",
        "        final_input = torch.cat([x, user_emb, product_emb], dim=1)\n",
        "        # X es el batch que va a entrar\n",
        "        z1 = self.linear_1(final_input)\n",
        "        a1 = self.activation_1(z1)\n",
        "        d1 = self.dropout_1(a1)\n",
        "        z2 = self.linear_2(d1)\n",
        "        a2 = self.activation_2(z2)\n",
        "        d2 = self.dropout_2(a2)\n",
        "        z3 = self.linear_3(d2)\n",
        "        y = self.activation_3(z3)\n",
        "        return y\n",
        "  \n",
        "    \n",
        "class NnetEmbBinaryClass():\n",
        "    \n",
        "    def __init__(self, n_inputs, n_user, user_enc_dim, n_product, product_enc_dim):\n",
        "        self.nnet = NNetLayersEmb(n_inputs, n_user, user_enc_dim, n_product, product_enc_dim)\n",
        "        self.device = torch.device(\"cuda:0\" if torch.cuda.is_available() else \"cpu\")\n",
        "        pass\n",
        "    \n",
        "        \n",
        "    def fit(self,x_train, user_train, product_train, y_train, \\\n",
        "            x_valid=None, user_valid=None, product_valid=None, y_valid=None,\\\n",
        "            batch_size = 32, lr=0.001, epochs=10, verbose=True):\n",
        "        \n",
        "        training_set = CustomEmbDataset(x_train, user_train, product_train, y_train)\n",
        "        training_dataloader = DataLoader(training_set,batch_size=batch_size, \\\n",
        "                                         shuffle=True)\n",
        "        \n",
        "        if (x_valid is not None) & (y_valid is not None):\n",
        "            valid_set = CustomEmbDataset(x_valid, user_valid, product_valid, y_valid)     \n",
        "            valid_dataloader = DataLoader(valid_set,batch_size=len(valid_set), \\\n",
        "                                          shuffle= True)\n",
        "        \n",
        "        # Optimizer\n",
        "        criterion = torch.nn.BCELoss(reduction='sum')\n",
        "        optimizer = torch.optim.Adam(self.nnet.parameters(),\\\n",
        "                                    lr=0.001)\n",
        "    \n",
        "        # Training\n",
        "        self.nnet.to(self.device)\n",
        "        \n",
        "        history_loss=[]\n",
        "        history_train_auc=[]\n",
        "        history_valid_auc=[]\n",
        "        for epoch in range(epochs):\n",
        "            running_loss = 0\n",
        "            nnet_train_scores = []\n",
        "            train_truth = []\n",
        "            self.nnet.train()\n",
        "            for i, data in enumerate(training_dataloader):\n",
        "                # data es una tupla batch (data, label)\n",
        "                x, user, product, y = data #todavia esta en numpy\n",
        "                \n",
        "                x = x.to(self.device).float() #convierte a tensores y pasa a GPU si esta disponible\n",
        "                user = user.to(self.device).long()\n",
        "                product = product.to(self.device).long()\n",
        "                y = y.to(self.device).float() #convierte a tensores y pasa a GPU si esta disponible\n",
        "    \n",
        "                # set gradient to zero\n",
        "                optimizer.zero_grad()\n",
        "    \n",
        "                # forward\n",
        "                y_hat = self.nnet(x, user, product)\n",
        "    \n",
        "                # loss\n",
        "                loss = criterion(y_hat[:,0], y)\n",
        "    \n",
        "                # backward\n",
        "                loss.backward()\n",
        "\n",
        "                \n",
        "    \n",
        "                # update of parameters\n",
        "                optimizer.step()\n",
        "    \n",
        "                # compute loss and statistics\n",
        "                running_loss += loss.item()\n",
        "                \n",
        "                train_truth += list(y.detach().numpy()) \n",
        "                nnet_train_scores += list(y_hat[:,0].detach().numpy())\n",
        "                \n",
        "            history_loss.append(running_loss/x_train.shape[0])\n",
        "            \n",
        "            train_auc = roc_auc_score(train_truth, nnet_train_scores)\n",
        "            history_train_auc.append(train_auc)\n",
        "    \n",
        "            \n",
        "            if (verbose) & ((epoch) % (epochs/10)==0):\n",
        "                self.nnet.eval()\n",
        "                with torch.no_grad():\n",
        "                        \n",
        "                    if (x_valid is not None) & (y_valid is not None):\n",
        "                        \n",
        "                        nnet_valid_scores = []\n",
        "                        valid_truth = []\n",
        "                    \n",
        "                        for i, data in enumerate(valid_dataloader):\n",
        "                            # batch\n",
        "                            x, user, product, y = data #todavia esta en numpy\n",
        "                \n",
        "                            x = x.to(self.device).float() #convierte a tensores y pasa a GPU si esta disponible\n",
        "                            user = user.to(self.device).long()\n",
        "                            product = product.to(self.device).long()\n",
        "                            y = y.to(self.device).float() #convierte a tensores y pasa a GPU si esta disponible\n",
        "                            # forward \n",
        "                            y_hat = self.nnet(x, user, product)\n",
        "                \n",
        "                            # accumulate data\n",
        "                            valid_truth += list(y.detach().numpy()) \n",
        "                            nnet_valid_scores += list(y_hat[:,0].detach().numpy())\n",
        "                               \n",
        "                        valid_auc = roc_auc_score(valid_truth, nnet_valid_scores)\n",
        "                        history_valid_auc.append(valid_auc)\n",
        "            \n",
        "                        print(f\"Epoch = {epoch} | \" + \\\n",
        "                              f\"loss = {running_loss / x_train.shape[0]} | \" + \\\n",
        "                                  f\"train auc: {train_auc} | \" + \\\n",
        "                                  f\"valid auc: {valid_auc}\")\n",
        "                    else:\n",
        "                        print(f\"Epoch = {epoch} | \" + \\\n",
        "                              f\"loss = {running_loss / x_train.shape[0]} | \" +\\\n",
        "                                   f\"train auc: {train_auc}\")\n",
        "                            \n",
        "        return history_loss,history_train_auc, history_valid_auc\n",
        "        \n",
        "    def predict(self,x, user_index, product_index):\n",
        "        self.nnet.eval()\n",
        "        with torch.no_grad():\n",
        "            test_set = TestCustomEmbDataset(x, user_index, product_index)\n",
        "            test_dataloader = DataLoader(test_set,batch_size=len(test_set), \\\n",
        "                                         shuffle= False)\n",
        "            \n",
        "            for i, data in enumerate(test_dataloader):\n",
        "                x, user, product = data #todavia esta en numpy\n",
        "                \n",
        "                x = x.to(self.device).float() #convierte a tensores y pasa a GPU si esta disponible\n",
        "                user = user.to(self.device).long()\n",
        "                product = product.to(self.device).long()\n",
        "\n",
        "                y_hat = self.nnet(x, user, product)\n",
        "                y_hat = y_hat[:,0].detach().numpy()\n",
        "                y_hat = y_hat >= 0.5\n",
        "\n",
        "        return y_hat\n",
        "    \n",
        "    def predict_proba(self,x, user_index, product_index):\n",
        "        self.nnet.eval()\n",
        "        with torch.no_grad():\n",
        "            test_set = TestCustomEmbDataset(x, user_index, product_index)\n",
        "            test_dataloader = DataLoader(test_set,batch_size=len(test_set), \\\n",
        "                                         shuffle= False)\n",
        "            \n",
        "            for i, data in enumerate(test_dataloader):\n",
        "                x, user, product = data #todavia esta en numpy\n",
        "                \n",
        "                x = x.to(self.device).float() #convierte a tensores y pasa a GPU si esta disponible\n",
        "                user = user.to(self.device).long()\n",
        "                product = product.to(self.device).long()\n",
        "\n",
        "                y_hat = self.nnet(x, user, product)\n",
        "                y_hat = y_hat[:,0].detach().numpy()\n",
        "\n",
        "        return y_hat"
      ],
      "execution_count": 28,
      "outputs": []
    },
    {
      "cell_type": "code",
      "metadata": {
        "colab": {
          "base_uri": "https://localhost:8080/"
        },
        "id": "nDcqRLf0Kht5",
        "outputId": "a6a59f19-f26a-4001-8e04-7f5f7316be71"
      },
      "source": [
        "deep_emb_model = NnetEmbBinaryClass(x_train.shape[1], len(user_u), 15, len(product_u), 16)\n",
        "loss, train_auc, valid_auc = deep_emb_model.fit(x_train, np.array(user_train), np.array(product_train), np.array(Y_train),\\\n",
        "                                                x_valid, np.array(user_valid), np.array(product_valid), np.array(Y_valid), epochs=1)\n",
        "\n",
        "print(f\"Train AUC for Deep Emb NNet: {train_auc[-1]}\")\n",
        "print(f\"Valid AUC for Deep Emb NNet: {valid_auc[-1]}\")"
      ],
      "execution_count": 29,
      "outputs": [
        {
          "output_type": "stream",
          "text": [
            "Epoch = 0 | loss = 0.3109270837422041 | train auc: 0.9323925197684524 | valid auc: 0.9418969125410561\n",
            "Train AUC for Deep Emb NNet: 0.9323925197684524\n",
            "Valid AUC for Deep Emb NNet: 0.9418969125410561\n"
          ],
          "name": "stdout"
        }
      ]
    },
    {
      "cell_type": "markdown",
      "metadata": {
        "id": "fJT7cQ9nzYmj"
      },
      "source": [
        "### (i) Comparación de los modelos\n",
        "\n",
        "1. Comparar los resultados obtenidos.\n",
        "2. Hacer el gráfico de la región de decison para cada modelo."
      ]
    },
    {
      "cell_type": "code",
      "metadata": {
        "colab": {
          "base_uri": "https://localhost:8080/",
          "height": 204
        },
        "id": "UR4uYPTiVCen",
        "outputId": "e4d6ef07-8347-4cae-a56c-88ae67b7011a"
      },
      "source": [
        "# Punto 1\n",
        "# Comparo los modelos respecto al AUC sobre test\n",
        "results = {}\n",
        "\n",
        "predictions = base_model.predict_proba(x_test)\n",
        "test_auc = roc_auc_score(Y_test, predictions)\n",
        "results['Base Model']={}\n",
        "results['Base Model']['Test AUC'] = test_auc\n",
        "\n",
        "predictions = lr_model.predict_proba(x_test)\n",
        "test_auc = roc_auc_score(Y_test, predictions[:,1])\n",
        "results['Logistic Regression']={}\n",
        "results['Logistic Regression']['Test AUC'] = test_auc\n",
        "\n",
        "predictions = rf_model.predict_proba(x_test)\n",
        "test_auc = roc_auc_score(Y_test, predictions[:,1])\n",
        "results['Random Forest']={}\n",
        "results['Random Forest']['Test AUC'] = test_auc\n",
        "\n",
        "predictions = deep_model.predict_proba(x_test)\n",
        "test_auc = roc_auc_score(Y_test, predictions)\n",
        "results['Neural Net']={}\n",
        "results['Neural Net']['Test AUC'] = test_auc\n",
        "\n",
        "predictions = deep_emb_model.predict_proba(x_test, user_test, product_test)\n",
        "test_auc = roc_auc_score(Y_test, predictions)\n",
        "results['Neural Net with Embeddings']={}\n",
        "results['Neural Net with Embeddings']['Test AUC'] = test_auc\n",
        "\n",
        "df_results = pd.DataFrame(results).T\n",
        "df_results"
      ],
      "execution_count": 30,
      "outputs": [
        {
          "output_type": "execute_result",
          "data": {
            "text/html": [
              "<div>\n",
              "<style scoped>\n",
              "    .dataframe tbody tr th:only-of-type {\n",
              "        vertical-align: middle;\n",
              "    }\n",
              "\n",
              "    .dataframe tbody tr th {\n",
              "        vertical-align: top;\n",
              "    }\n",
              "\n",
              "    .dataframe thead th {\n",
              "        text-align: right;\n",
              "    }\n",
              "</style>\n",
              "<table border=\"1\" class=\"dataframe\">\n",
              "  <thead>\n",
              "    <tr style=\"text-align: right;\">\n",
              "      <th></th>\n",
              "      <th>Test AUC</th>\n",
              "    </tr>\n",
              "  </thead>\n",
              "  <tbody>\n",
              "    <tr>\n",
              "      <th>Base Model</th>\n",
              "      <td>0.500000</td>\n",
              "    </tr>\n",
              "    <tr>\n",
              "      <th>Logistic Regression</th>\n",
              "      <td>0.927064</td>\n",
              "    </tr>\n",
              "    <tr>\n",
              "      <th>Random Forest</th>\n",
              "      <td>0.919480</td>\n",
              "    </tr>\n",
              "    <tr>\n",
              "      <th>Neural Net</th>\n",
              "      <td>0.929171</td>\n",
              "    </tr>\n",
              "    <tr>\n",
              "      <th>Neural Net with Embeddings</th>\n",
              "      <td>0.941729</td>\n",
              "    </tr>\n",
              "  </tbody>\n",
              "</table>\n",
              "</div>"
            ],
            "text/plain": [
              "                            Test AUC\n",
              "Base Model                  0.500000\n",
              "Logistic Regression         0.927064\n",
              "Random Forest               0.919480\n",
              "Neural Net                  0.929171\n",
              "Neural Net with Embeddings  0.941729"
            ]
          },
          "metadata": {},
          "execution_count": 30
        }
      ]
    },
    {
      "cell_type": "markdown",
      "metadata": {
        "id": "W3NfdH9s2xgT"
      },
      "source": [
        "En todos los casos se observa que se obtiene mejor AUC respecto al modelo base y resultados en general buenos.\n",
        "\n",
        "Se observa buena generalización de los modelos, ya que las métricas se mantienen en train y valid.\n",
        "\n",
        "También se observa que el mejor AUC lo obutvo la red neuronal con embeddings, lo cual nos indica (como se podía suponer) que las columnas user_id y product_id contienen información importante para el problema a resolver."
      ]
    },
    {
      "cell_type": "markdown",
      "metadata": {
        "id": "b84e8sx3nNhm"
      },
      "source": [
        "**Punto 2**\n",
        "\n",
        "En este punto se intentó previamente graficar la región de decisión haciendo una reducción a 2 dimensiones del dataset con PCA, ICA, t-SNE y LDA.\n",
        "\n",
        "Lamentablemente ninguna de las técnicas logró una gráfica con buena separación entre las clases de salida.\n",
        "\n",
        "Por este motivo se grafica la región de decición como un histograma de las probabilidades del modelo, separando según las clases reales.\n",
        "En el caso ideal, no debería haber superposición de los histogramas."
      ]
    },
    {
      "cell_type": "code",
      "metadata": {
        "colab": {
          "base_uri": "https://localhost:8080/",
          "height": 294
        },
        "id": "2DCefbHre0Jz",
        "outputId": "28615e42-1ab1-48ca-9400-a3512e657881"
      },
      "source": [
        "# Salida real. Como sería un modelo perfecto\n",
        "fig, ax1 = plt.subplots(1,1)\n",
        "ax1.hist(y_final[y_final==0], bins=10, range=(0,1), color='blue', label='False Class')\n",
        "ax1.hist(y_final[y_final==1], bins=10, range=(0,1), color='red', label='True Class')\n",
        "ax1.set_xlim([0, 1])\n",
        "plt.title('Perfect Model')\n",
        "plt.xlabel('Output Probability')\n",
        "plt.ylabel('Count')\n",
        "plt.legend()\n",
        "plt.show()"
      ],
      "execution_count": 31,
      "outputs": [
        {
          "output_type": "display_data",
          "data": {
            "image/png": "[encoded data removed]",
            "text/plain": [
              "<Figure size 432x288 with 1 Axes>"
            ]
          },
          "metadata": {
            "needs_background": "light"
          }
        }
      ]
    },
    {
      "cell_type": "code",
      "metadata": {
        "colab": {
          "base_uri": "https://localhost:8080/",
          "height": 294
        },
        "id": "4n2_Ou_8Ow0e",
        "outputId": "a62127c2-3ebf-433d-80a2-d059557c68fe"
      },
      "source": [
        "# Constant model\n",
        "predictions = base_model.predict_proba(df_final)\n",
        "fig, ax1 = plt.subplots(1,1)\n",
        "ax1.hist(predictions[y_final==0], bins=10, range=(0,1), color='blue', label='False Class')\n",
        "ax1.hist(predictions[y_final==1], bins=10, range=(0,1), color='red', label='True Class')\n",
        "ax1.set_xlim([0, 1])\n",
        "plt.title('Base constant model')\n",
        "plt.xlabel('Output Probability')\n",
        "plt.ylabel('Count')\n",
        "plt.legend()\n",
        "plt.show()"
      ],
      "execution_count": 32,
      "outputs": [
        {
          "output_type": "display_data",
          "data": {
            "image/png": "[encoded data removed]",
            "text/plain": [
              "<Figure size 432x288 with 1 Axes>"
            ]
          },
          "metadata": {
            "needs_background": "light"
          }
        }
      ]
    },
    {
      "cell_type": "code",
      "metadata": {
        "id": "pbASJsrhPGkT",
        "colab": {
          "base_uri": "https://localhost:8080/",
          "height": 294
        },
        "outputId": "7f25d628-d9d9-4b6e-81fc-d3fe4b8e1c58"
      },
      "source": [
        "# Logistic model\n",
        "predictions = lr_model.predict_proba(df_final)\n",
        "predictions = predictions[:,1]\n",
        "\n",
        "fig, ax1 = plt.subplots(1,1)\n",
        "ax1.hist(predictions[y_final==0], bins=10, range=(0,1), color='blue', label='False Class')\n",
        "ax1.hist(predictions[y_final==1], bins=10, range=(0,1), color='red', label='True Class')\n",
        "ax1.set_xlim([0, 1])\n",
        "plt.title('Logistic Regression')\n",
        "plt.xlabel('Output Probability')\n",
        "plt.ylabel('Count')\n",
        "plt.legend()\n",
        "plt.show()"
      ],
      "execution_count": 33,
      "outputs": [
        {
          "output_type": "display_data",
          "data": {
            "image/png": "[encoded data removed]",
            "text/plain": [
              "<Figure size 432x288 with 1 Axes>"
            ]
          },
          "metadata": {
            "needs_background": "light"
          }
        }
      ]
    },
    {
      "cell_type": "code",
      "metadata": {
        "id": "KL2flrPxPbUu",
        "colab": {
          "base_uri": "https://localhost:8080/",
          "height": 294
        },
        "outputId": "b3c1c990-aa6c-44dc-bb00-d03bfb6d37d9"
      },
      "source": [
        "# Random Forest model\n",
        "predictions = rf_model.predict_proba(df_final)\n",
        "predictions = predictions[:,1]\n",
        "fig, ax1 = plt.subplots(1,1)\n",
        "ax1.hist(predictions[y_final==0], bins=10, range=(0,1), color='blue', label='False Class')\n",
        "ax1.hist(predictions[y_final==1], bins=10, range=(0,1), color='red', label='True Class')\n",
        "ax1.set_xlim([0, 1])\n",
        "plt.title('Random Forest')\n",
        "plt.xlabel('Output Probability')\n",
        "plt.ylabel('Count')\n",
        "plt.legend()\n",
        "plt.show()"
      ],
      "execution_count": 34,
      "outputs": [
        {
          "output_type": "display_data",
          "data": {
            "image/png": "[encoded data removed]",
            "text/plain": [
              "<Figure size 432x288 with 1 Axes>"
            ]
          },
          "metadata": {
            "needs_background": "light"
          }
        }
      ]
    },
    {
      "cell_type": "code",
      "metadata": {
        "colab": {
          "base_uri": "https://localhost:8080/",
          "height": 294
        },
        "id": "iC31OAalpEW8",
        "outputId": "d46f11ef-de9c-4ad9-ad53-371f10cf73ea"
      },
      "source": [
        "# Deep Learning Model\n",
        "predictions = deep_model.predict_proba(df_final)\n",
        "fig, ax1 = plt.subplots(1,1)\n",
        "ax1.hist(predictions[y_final==0], bins=10, range=(0,1), color='blue', label='False Class')\n",
        "ax1.hist(predictions[y_final==1], bins=10, range=(0,1), color='red', label='True Class')\n",
        "ax1.set_xlim([0, 1])\n",
        "plt.title('Neural Net model')\n",
        "plt.xlabel('Output Probability')\n",
        "plt.ylabel('Count')\n",
        "plt.legend()\n",
        "plt.show()"
      ],
      "execution_count": 35,
      "outputs": [
        {
          "output_type": "display_data",
          "data": {
            "image/png": "[encoded data removed]",
            "text/plain": [
              "<Figure size 432x288 with 1 Axes>"
            ]
          },
          "metadata": {
            "needs_background": "light"
          }
        }
      ]
    },
    {
      "cell_type": "code",
      "metadata": {
        "colab": {
          "base_uri": "https://localhost:8080/",
          "height": 294
        },
        "id": "IucuqF_Mv1SS",
        "outputId": "db67f2b3-e262-428e-8a12-7a681b69bbb3"
      },
      "source": [
        "# Deep Learning with embeddings Model\n",
        "predictions = deep_emb_model.predict_proba(df_final, user_index, product_index)\n",
        "fig, ax1 = plt.subplots(1,1)\n",
        "ax1.hist(predictions[y_final==0], bins=10, range=(0,1), color='blue', label='False Class')\n",
        "ax1.hist(predictions[y_final==1], bins=10, range=(0,1), color='red', label='True Class')\n",
        "ax1.set_xlim([0, 1])\n",
        "plt.title('Neural Net with embeddings model')\n",
        "plt.xlabel('Output Probability')\n",
        "plt.ylabel('Count')\n",
        "plt.legend()\n",
        "plt.show()"
      ],
      "execution_count": 36,
      "outputs": [
        {
          "output_type": "display_data",
          "data": {
            "image/png": "[encoded data removed]",
            "text/plain": [
              "<Figure size 432x288 with 1 Axes>"
            ]
          },
          "metadata": {
            "needs_background": "light"
          }
        }
      ]
    }
  ]
}